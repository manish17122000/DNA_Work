{
 "cells": [
  {
   "cell_type": "markdown",
   "id": "4d20792d",
   "metadata": {},
   "source": [
    "# Suicides in India 2001-2012"
   ]
  },
  {
   "cell_type": "code",
   "execution_count": 1,
   "id": "26c90d23",
   "metadata": {},
   "outputs": [],
   "source": [
    "import pandas as pd\n",
    "import numpy as np"
   ]
  },
  {
   "cell_type": "code",
   "execution_count": 2,
   "id": "4a4dba29",
   "metadata": {},
   "outputs": [],
   "source": [
    "df= pd.read_csv(\"C:\\\\Users\\\\manish\\\\Desktop\\\\Datasets\\\\Suicides in India 2001-2012.csv\")"
   ]
  },
  {
   "cell_type": "code",
   "execution_count": 5,
   "id": "f9b8939e",
   "metadata": {},
   "outputs": [
    {
     "name": "stdout",
     "output_type": "stream",
     "text": [
      "<class 'pandas.core.frame.DataFrame'>\n",
      "RangeIndex: 237519 entries, 0 to 237518\n",
      "Data columns (total 7 columns):\n",
      " #   Column     Non-Null Count   Dtype \n",
      "---  ------     --------------   ----- \n",
      " 0   State      237519 non-null  object\n",
      " 1   Year       237519 non-null  int64 \n",
      " 2   Type_code  237519 non-null  object\n",
      " 3   Type       237519 non-null  object\n",
      " 4   Gender     237519 non-null  object\n",
      " 5   Age_group  237519 non-null  object\n",
      " 6   Total      237519 non-null  int64 \n",
      "dtypes: int64(2), object(5)\n",
      "memory usage: 12.7+ MB\n"
     ]
    }
   ],
   "source": [
    "df.head()\n",
    "df.info()"
   ]
  },
  {
   "cell_type": "markdown",
   "id": "57723041",
   "metadata": {},
   "source": [
    "## QUES.:- Cause of Divorce home much people died(Define based on Age-Group and Gender)."
   ]
  },
  {
   "cell_type": "code",
   "execution_count": 15,
   "id": "f16740f0",
   "metadata": {},
   "outputs": [
    {
     "data": {
      "text/plain": [
       "Age_group\n",
       "0-14        5\n",
       "15-29    1552\n",
       "30-44    1904\n",
       "45-59     615\n",
       "60+        57\n",
       "Name: Total, dtype: int64"
      ]
     },
     "execution_count": 15,
     "metadata": {},
     "output_type": "execute_result"
    }
   ],
   "source": [
    "df[df.Type=='Divorce'].groupby(df['Age_group']).Total.sum()"
   ]
  },
  {
   "cell_type": "code",
   "execution_count": 16,
   "id": "00231338",
   "metadata": {},
   "outputs": [
    {
     "data": {
      "text/plain": [
       "Gender\n",
       "Female    2535\n",
       "Male      1598\n",
       "Name: Total, dtype: int64"
      ]
     },
     "execution_count": 16,
     "metadata": {},
     "output_type": "execute_result"
    }
   ],
   "source": [
    "df[df.Type=='Divorce'].groupby(df['Gender']).Total.sum()"
   ]
  },
  {
   "cell_type": "markdown",
   "id": "c614b746",
   "metadata": {},
   "source": [
    "## Ques:- In which city mostly youngster(15-29) unemployed died...?"
   ]
  },
  {
   "cell_type": "code",
   "execution_count": 17,
   "id": "d3d0a500",
   "metadata": {},
   "outputs": [
    {
     "data": {
      "text/html": [
       "<div>\n",
       "<style scoped>\n",
       "    .dataframe tbody tr th:only-of-type {\n",
       "        vertical-align: middle;\n",
       "    }\n",
       "\n",
       "    .dataframe tbody tr th {\n",
       "        vertical-align: top;\n",
       "    }\n",
       "\n",
       "    .dataframe thead th {\n",
       "        text-align: right;\n",
       "    }\n",
       "</style>\n",
       "<table border=\"1\" class=\"dataframe\">\n",
       "  <thead>\n",
       "    <tr style=\"text-align: right;\">\n",
       "      <th></th>\n",
       "      <th>State</th>\n",
       "      <th>Year</th>\n",
       "      <th>Type_code</th>\n",
       "      <th>Type</th>\n",
       "      <th>Gender</th>\n",
       "      <th>Age_group</th>\n",
       "      <th>Total</th>\n",
       "    </tr>\n",
       "  </thead>\n",
       "  <tbody>\n",
       "    <tr>\n",
       "      <th>0</th>\n",
       "      <td>A &amp; N Islands</td>\n",
       "      <td>2001</td>\n",
       "      <td>Causes</td>\n",
       "      <td>Illness (Aids/STD)</td>\n",
       "      <td>Female</td>\n",
       "      <td>0-14</td>\n",
       "      <td>0</td>\n",
       "    </tr>\n",
       "    <tr>\n",
       "      <th>1</th>\n",
       "      <td>A &amp; N Islands</td>\n",
       "      <td>2001</td>\n",
       "      <td>Causes</td>\n",
       "      <td>Bankruptcy or Sudden change in Economic</td>\n",
       "      <td>Female</td>\n",
       "      <td>0-14</td>\n",
       "      <td>0</td>\n",
       "    </tr>\n",
       "    <tr>\n",
       "      <th>2</th>\n",
       "      <td>A &amp; N Islands</td>\n",
       "      <td>2001</td>\n",
       "      <td>Causes</td>\n",
       "      <td>Cancellation/Non-Settlement of Marriage</td>\n",
       "      <td>Female</td>\n",
       "      <td>0-14</td>\n",
       "      <td>0</td>\n",
       "    </tr>\n",
       "    <tr>\n",
       "      <th>3</th>\n",
       "      <td>A &amp; N Islands</td>\n",
       "      <td>2001</td>\n",
       "      <td>Causes</td>\n",
       "      <td>Physical Abuse (Rape/Incest Etc.)</td>\n",
       "      <td>Female</td>\n",
       "      <td>0-14</td>\n",
       "      <td>0</td>\n",
       "    </tr>\n",
       "    <tr>\n",
       "      <th>4</th>\n",
       "      <td>A &amp; N Islands</td>\n",
       "      <td>2001</td>\n",
       "      <td>Causes</td>\n",
       "      <td>Dowry Dispute</td>\n",
       "      <td>Female</td>\n",
       "      <td>0-14</td>\n",
       "      <td>0</td>\n",
       "    </tr>\n",
       "  </tbody>\n",
       "</table>\n",
       "</div>"
      ],
      "text/plain": [
       "           State  Year Type_code                                     Type  \\\n",
       "0  A & N Islands  2001    Causes                       Illness (Aids/STD)   \n",
       "1  A & N Islands  2001    Causes  Bankruptcy or Sudden change in Economic   \n",
       "2  A & N Islands  2001    Causes  Cancellation/Non-Settlement of Marriage   \n",
       "3  A & N Islands  2001    Causes        Physical Abuse (Rape/Incest Etc.)   \n",
       "4  A & N Islands  2001    Causes                            Dowry Dispute   \n",
       "\n",
       "   Gender Age_group  Total  \n",
       "0  Female      0-14      0  \n",
       "1  Female      0-14      0  \n",
       "2  Female      0-14      0  \n",
       "3  Female      0-14      0  \n",
       "4  Female      0-14      0  "
      ]
     },
     "execution_count": 17,
     "metadata": {},
     "output_type": "execute_result"
    }
   ],
   "source": [
    "df.head()"
   ]
  },
  {
   "cell_type": "code",
   "execution_count": 28,
   "id": "758c56c5",
   "metadata": {},
   "outputs": [
    {
     "data": {
      "text/plain": [
       "State\n",
       "Tamil Nadu           7219\n",
       "West Bengal          6053\n",
       "Maharashtra          5393\n",
       "Kerala               3607\n",
       "Andhra Pradesh       3084\n",
       "Karnataka            2783\n",
       "Gujarat              2536\n",
       "Odisha               2329\n",
       "Delhi (Ut)           1916\n",
       "Madhya Pradesh       1871\n",
       "Uttar Pradesh        1864\n",
       "Chhattisgarh         1577\n",
       "Haryana              1226\n",
       "Rajasthan             905\n",
       "Puducherry            525\n",
       "Assam                 456\n",
       "Tripura               450\n",
       "Punjab                367\n",
       "Jharkhand             332\n",
       "Goa                   292\n",
       "Bihar                 286\n",
       "Himachal Pradesh      242\n",
       "Jammu & Kashmir       197\n",
       "Uttarakhand           177\n",
       "Mizoram               108\n",
       "Sikkim                 96\n",
       "Chandigarh             95\n",
       "Meghalaya              87\n",
       "A & N Islands          57\n",
       "Arunachal Pradesh      48\n",
       "Manipur                25\n",
       "Nagaland               20\n",
       "D & N Haveli           17\n",
       "Daman & Diu             2\n",
       "Lakshadweep             0\n",
       "Name: Total, dtype: int64"
      ]
     },
     "execution_count": 28,
     "metadata": {},
     "output_type": "execute_result"
    }
   ],
   "source": [
    "df[(df['Type']=='Unemployed') & (df['Age_group']== '15-29')].groupby(df['State']).Total.sum().sort_values(ascending= False)"
   ]
  },
  {
   "cell_type": "markdown",
   "id": "17c33211",
   "metadata": {},
   "source": [
    "## Ques:- Most death cause and ways by sucide in india?"
   ]
  },
  {
   "cell_type": "code",
   "execution_count": 29,
   "id": "48feba36",
   "metadata": {},
   "outputs": [
    {
     "data": {
      "text/html": [
       "<div>\n",
       "<style scoped>\n",
       "    .dataframe tbody tr th:only-of-type {\n",
       "        vertical-align: middle;\n",
       "    }\n",
       "\n",
       "    .dataframe tbody tr th {\n",
       "        vertical-align: top;\n",
       "    }\n",
       "\n",
       "    .dataframe thead th {\n",
       "        text-align: right;\n",
       "    }\n",
       "</style>\n",
       "<table border=\"1\" class=\"dataframe\">\n",
       "  <thead>\n",
       "    <tr style=\"text-align: right;\">\n",
       "      <th></th>\n",
       "      <th>State</th>\n",
       "      <th>Year</th>\n",
       "      <th>Type_code</th>\n",
       "      <th>Type</th>\n",
       "      <th>Gender</th>\n",
       "      <th>Age_group</th>\n",
       "      <th>Total</th>\n",
       "    </tr>\n",
       "  </thead>\n",
       "  <tbody>\n",
       "    <tr>\n",
       "      <th>0</th>\n",
       "      <td>A &amp; N Islands</td>\n",
       "      <td>2001</td>\n",
       "      <td>Causes</td>\n",
       "      <td>Illness (Aids/STD)</td>\n",
       "      <td>Female</td>\n",
       "      <td>0-14</td>\n",
       "      <td>0</td>\n",
       "    </tr>\n",
       "    <tr>\n",
       "      <th>1</th>\n",
       "      <td>A &amp; N Islands</td>\n",
       "      <td>2001</td>\n",
       "      <td>Causes</td>\n",
       "      <td>Bankruptcy or Sudden change in Economic</td>\n",
       "      <td>Female</td>\n",
       "      <td>0-14</td>\n",
       "      <td>0</td>\n",
       "    </tr>\n",
       "    <tr>\n",
       "      <th>2</th>\n",
       "      <td>A &amp; N Islands</td>\n",
       "      <td>2001</td>\n",
       "      <td>Causes</td>\n",
       "      <td>Cancellation/Non-Settlement of Marriage</td>\n",
       "      <td>Female</td>\n",
       "      <td>0-14</td>\n",
       "      <td>0</td>\n",
       "    </tr>\n",
       "    <tr>\n",
       "      <th>3</th>\n",
       "      <td>A &amp; N Islands</td>\n",
       "      <td>2001</td>\n",
       "      <td>Causes</td>\n",
       "      <td>Physical Abuse (Rape/Incest Etc.)</td>\n",
       "      <td>Female</td>\n",
       "      <td>0-14</td>\n",
       "      <td>0</td>\n",
       "    </tr>\n",
       "    <tr>\n",
       "      <th>4</th>\n",
       "      <td>A &amp; N Islands</td>\n",
       "      <td>2001</td>\n",
       "      <td>Causes</td>\n",
       "      <td>Dowry Dispute</td>\n",
       "      <td>Female</td>\n",
       "      <td>0-14</td>\n",
       "      <td>0</td>\n",
       "    </tr>\n",
       "  </tbody>\n",
       "</table>\n",
       "</div>"
      ],
      "text/plain": [
       "           State  Year Type_code                                     Type  \\\n",
       "0  A & N Islands  2001    Causes                       Illness (Aids/STD)   \n",
       "1  A & N Islands  2001    Causes  Bankruptcy or Sudden change in Economic   \n",
       "2  A & N Islands  2001    Causes  Cancellation/Non-Settlement of Marriage   \n",
       "3  A & N Islands  2001    Causes        Physical Abuse (Rape/Incest Etc.)   \n",
       "4  A & N Islands  2001    Causes                            Dowry Dispute   \n",
       "\n",
       "   Gender Age_group  Total  \n",
       "0  Female      0-14      0  \n",
       "1  Female      0-14      0  \n",
       "2  Female      0-14      0  \n",
       "3  Female      0-14      0  \n",
       "4  Female      0-14      0  "
      ]
     },
     "execution_count": 29,
     "metadata": {},
     "output_type": "execute_result"
    }
   ],
   "source": [
    "df.head()"
   ]
  },
  {
   "cell_type": "code",
   "execution_count": 30,
   "id": "f0e76207",
   "metadata": {},
   "outputs": [
    {
     "data": {
      "text/plain": [
       "Type\n",
       "Family Problems                                   341952\n",
       "Causes Not known                                  237069\n",
       "Other Causes (Please Specity)                     216050\n",
       "Other Prolonged Illness                           194565\n",
       "Insanity/Mental Illness                            94229\n",
       "Love Affairs                                       45039\n",
       "Bankruptcy or Sudden change in Economic            32755\n",
       "Poverty                                            32684\n",
       "Dowry Dispute                                      31970\n",
       "Drug Abuse/Addiction                               30046\n",
       "Unemployment                                       27365\n",
       "Failure in Examination                             27005\n",
       "Property Dispute                                   18652\n",
       "Suspected/Illicit Relation                         14911\n",
       "Fall in Social Reputation                          13464\n",
       "Professional/Career Problem                        12554\n",
       "Cancellation/Non-Settlement of Marriage            11296\n",
       "Death of Dear Person                               10321\n",
       "Cancer                                              9058\n",
       "Illness (Aids/STD)                                  8723\n",
       "Not having Children(Barrenness/Impotency            7822\n",
       "Paralysis                                           7286\n",
       "Divorce                                             4133\n",
       "Physical Abuse (Rape/Incest Etc.)                   3992\n",
       "Bankruptcy or Sudden change in Economic Status      2655\n",
       "Illegitimate Pregnancy                              2494\n",
       "Ideological Causes/Hero Worshipping                 2118\n",
       "Not having Children (Barrenness/Impotency            766\n",
       "Name: Total, dtype: int64"
      ]
     },
     "execution_count": 30,
     "metadata": {},
     "output_type": "execute_result"
    }
   ],
   "source": [
    "df[(df['Type_code']=='Causes')].groupby(df['Type']).Total.sum().sort_values(ascending= False)"
   ]
  },
  {
   "cell_type": "code",
   "execution_count": 31,
   "id": "26ea2c74",
   "metadata": {
    "scrolled": true
   },
   "outputs": [
    {
     "data": {
      "text/plain": [
       "Type\n",
       "By Hanging                                 460955\n",
       "By Consuming Insecticides                  275501\n",
       "By Consuming Other Poison                  231178\n",
       "By Other means (please specify)            135132\n",
       "By Fire/Self Immolation                    128006\n",
       "By Drowning                                 96711\n",
       "By coming under running vehicles/trains     45299\n",
       "By Over Alcoholism                          15973\n",
       "By touching electric wires                  10816\n",
       "By Overdose of sleeping pills                9960\n",
       "By Other means                               9238\n",
       "By Jumping from (Other sites)                8127\n",
       "By Jumping off Moving Vehicles/Trains        8116\n",
       "By Jumping from (Building)                   7871\n",
       "By Fire-Arms                                 6294\n",
       "By Self Infliction of injury                 5093\n",
       "By Machine                                   1661\n",
       "Name: Total, dtype: int64"
      ]
     },
     "execution_count": 31,
     "metadata": {},
     "output_type": "execute_result"
    }
   ],
   "source": [
    "df[(df['Type_code']=='Means_adopted')].groupby(df['Type']).Total.sum().sort_values(ascending= False)"
   ]
  },
  {
   "cell_type": "markdown",
   "id": "0afdb416",
   "metadata": {},
   "source": [
    "## Ques:- Most people died in city-wise...?"
   ]
  },
  {
   "cell_type": "markdown",
   "id": "d8c04288",
   "metadata": {},
   "source": [
    "### Youngester(15-29)"
   ]
  },
  {
   "cell_type": "code",
   "execution_count": 33,
   "id": "13b2740a",
   "metadata": {},
   "outputs": [
    {
     "data": {
      "text/plain": [
       "State\n",
       "Maharashtra          68290\n",
       "West Bengal          56688\n",
       "Andhra Pradesh       55121\n",
       "Tamil Nadu           52468\n",
       "Karnataka            46560\n",
       "Madhya Pradesh       40670\n",
       "Gujarat              26181\n",
       "Chhattisgarh         22048\n",
       "Kerala               21285\n",
       "Uttar Pradesh        20480\n",
       "Odisha               19665\n",
       "Rajasthan            19151\n",
       "Assam                13384\n",
       "Haryana              11593\n",
       "Delhi (Ut)            8861\n",
       "Bihar                 3720\n",
       "Punjab                3675\n",
       "Tripura               3660\n",
       "Jharkhand             3572\n",
       "Puducherry            2251\n",
       "Himachal Pradesh      2074\n",
       "Uttarakhand           1654\n",
       "Jammu & Kashmir       1380\n",
       "Goa                   1220\n",
       "Sikkim                 747\n",
       "A & N Islands          630\n",
       "Arunachal Pradesh      572\n",
       "Chandigarh             531\n",
       "Meghalaya              495\n",
       "Mizoram                386\n",
       "D & N Haveli           303\n",
       "Manipur                198\n",
       "Daman & Diu            131\n",
       "Nagaland               130\n",
       "Lakshadweep              2\n",
       "Name: Total, dtype: int64"
      ]
     },
     "execution_count": 33,
     "metadata": {},
     "output_type": "execute_result"
    }
   ],
   "source": [
    "df[(df['Type_code']=='Causes') & (df['Age_group']== '15-29')].groupby(df['State']).Total.sum().sort_values(ascending= False)"
   ]
  },
  {
   "cell_type": "markdown",
   "id": "ae2c7233",
   "metadata": {},
   "source": [
    "### All"
   ]
  },
  {
   "cell_type": "code",
   "execution_count": 34,
   "id": "23f88d95",
   "metadata": {},
   "outputs": [
    {
     "data": {
      "text/plain": [
       "State\n",
       "Maharashtra          180389\n",
       "Tamil Nadu           163813\n",
       "Andhra Pradesh       162820\n",
       "West Bengal          161030\n",
       "Karnataka            146965\n",
       "Kerala               107936\n",
       "Madhya Pradesh        90307\n",
       "Gujarat               66177\n",
       "Chhattisgarh          60495\n",
       "Odisha                53448\n",
       "Rajasthan             51027\n",
       "Uttar Pradesh         46680\n",
       "Assam                 34469\n",
       "Haryana               29437\n",
       "Delhi (Ut)            16857\n",
       "Jharkhand              9950\n",
       "Punjab                 9270\n",
       "Bihar                  9245\n",
       "Tripura                9194\n",
       "Puducherry             6429\n",
       "Himachal Pradesh       5319\n",
       "Uttarakhand            3702\n",
       "Goa                    3475\n",
       "Jammu & Kashmir        2968\n",
       "Sikkim                 1924\n",
       "A & N Islands          1623\n",
       "Arunachal Pradesh      1328\n",
       "Meghalaya              1086\n",
       "Chandigarh             1034\n",
       "Mizoram                 834\n",
       "D & N Haveli            686\n",
       "Manipur                 421\n",
       "Nagaland                347\n",
       "Daman & Diu             279\n",
       "Lakshadweep              10\n",
       "Name: Total, dtype: int64"
      ]
     },
     "execution_count": 34,
     "metadata": {},
     "output_type": "execute_result"
    }
   ],
   "source": [
    "df[(df['Type_code']=='Causes')].groupby(df['State']).Total.sum().sort_values(ascending= False)"
   ]
  }
 ],
 "metadata": {
  "kernelspec": {
   "display_name": "Python 3 (ipykernel)",
   "language": "python",
   "name": "python3"
  },
  "language_info": {
   "codemirror_mode": {
    "name": "ipython",
    "version": 3
   },
   "file_extension": ".py",
   "mimetype": "text/x-python",
   "name": "python",
   "nbconvert_exporter": "python",
   "pygments_lexer": "ipython3",
   "version": "3.9.12"
  }
 },
 "nbformat": 4,
 "nbformat_minor": 5
}
